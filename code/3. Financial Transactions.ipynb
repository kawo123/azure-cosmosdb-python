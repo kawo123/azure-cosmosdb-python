{
 "cells": [
  {
   "cell_type": "code",
   "execution_count": 1,
   "metadata": {},
   "outputs": [],
   "source": [
    "from pprint import pprint\n",
    "import json\n",
    "\n",
    "import azure.cosmos.cosmos_client as cosmos_client\n",
    "import azure.cosmos.documents as documents\n",
    "import azure.cosmos.errors as errors"
   ]
  },
  {
   "cell_type": "code",
   "execution_count": 2,
   "metadata": {},
   "outputs": [],
   "source": [
    "COSMOSDB_ENDPOINT = '{AZURE_COSMOS_DB_ENDPOINT}'\n",
    "COSMOSDB_PRIMARY_KEY = '{AZURE_COSMOS_DB_PRIMARY_KEY}'\n",
    "COSMOSDB_DB_ID = 'FinancialDatabase'\n",
    "COSMOSDB_COLL_ID = 'TransactionsCollection'\n",
    "\n",
    "client = cosmos_client.CosmosClient(COSMOSDB_ENDPOINT, { 'masterKey': COSMOSDB_PRIMARY_KEY })\n",
    "database_link = f'dbs/{COSMOSDB_DB_ID}'\n",
    "partition_key = '/costCenter'\n",
    "throughput = 10000\n",
    "collection_link = f'{database_link}/colls/{COSMOSDB_COLL_ID}'"
   ]
  },
  {
   "cell_type": "code",
   "execution_count": 3,
   "metadata": {},
   "outputs": [],
   "source": [
    "def create_database(id):\n",
    "    print('Create database')\n",
    "\n",
    "    try:\n",
    "        client.CreateDatabase({\"id\": id})\n",
    "        print(f'Database with id \"{id}\" created')\n",
    "\n",
    "    except errors.HTTPFailure as e:\n",
    "        if e.status_code == 409:\n",
    "           print(f'A database with id \"{id}\" already exists')\n",
    "        else: \n",
    "            raise"
   ]
  },
  {
   "cell_type": "code",
   "execution_count": 4,
   "metadata": {},
   "outputs": [
    {
     "name": "stdout",
     "output_type": "stream",
     "text": [
      "Create database\n",
      "A database with id \"FinancialDatabase\" already exists\n"
     ]
    }
   ],
   "source": [
    "create_database(COSMOSDB_DB_ID)"
   ]
  },
  {
   "cell_type": "code",
   "execution_count": 5,
   "metadata": {},
   "outputs": [],
   "source": [
    "def create_container(id, throughput, partition_key):\n",
    "    try:\n",
    "        coll = {\n",
    "            \"id\": id,\n",
    "            \"partitionKey\": {\n",
    "                \"paths\": [\n",
    "                    partition_key\n",
    "                ],\n",
    "                \"kind\": \"Hash\",\n",
    "                \"version\": 2\n",
    "            }\n",
    "        }\n",
    "        collection_options = { 'offerThroughput': throughput }\n",
    "        collection = client.CreateContainer(database_link, coll, collection_options)\n",
    "\n",
    "        print(f'Collection with id \"{id}\" created')\n",
    "        print(f'Partition Key - \"{partition_key}\"')\n",
    "\n",
    "    except errors.CosmosError as e:\n",
    "        if e.status_code == 409:\n",
    "            print(f'A collection with id \"{id}\" already exists')\n",
    "        else:\n",
    "            raise"
   ]
  },
  {
   "cell_type": "code",
   "execution_count": 6,
   "metadata": {},
   "outputs": [
    {
     "name": "stdout",
     "output_type": "stream",
     "text": [
      "A collection with id \"TransactionsCollection\" already exists\n"
     ]
    }
   ],
   "source": [
    "create_container(COSMOSDB_COLL_ID, throughput, partition_key)"
   ]
  },
  {
   "cell_type": "code",
   "execution_count": 7,
   "metadata": {},
   "outputs": [
    {
     "name": "stdout",
     "output_type": "stream",
     "text": [
      "2400\n",
      "[{'amount': 188.13,\n",
      "  'costCenter': 'automotive',\n",
      "  'paidBy': 'fritz.waters',\n",
      "  'processed': True},\n",
      " {'amount': 115.37,\n",
      "  'costCenter': 'automotive',\n",
      "  'paidBy': 'hermann.hermann',\n",
      "  'processed': True},\n",
      " {'amount': 177.97,\n",
      "  'costCenter': 'automotive',\n",
      "  'paidBy': 'lou.ledner',\n",
      "  'processed': True},\n",
      " {'amount': 6.19,\n",
      "  'costCenter': 'automotive',\n",
      "  'paidBy': 'garnett.ullrich',\n",
      "  'processed': False},\n",
      " {'amount': 234.81,\n",
      "  'costCenter': 'automotive',\n",
      "  'paidBy': 'sherwood.kozey',\n",
      "  'processed': True}]\n"
     ]
    }
   ],
   "source": [
    "# Import transaction data with 'automotive' cost center\n",
    "\n",
    "json_file = open('../data/automotive_transactions.json')\n",
    "transactions_json = json.load(json_file)\n",
    "json_file.close()\n",
    "\n",
    "print(len(transactions_json))\n",
    "pprint(transactions_json[0:5])"
   ]
  },
  {
   "cell_type": "code",
   "execution_count": 8,
   "metadata": {},
   "outputs": [],
   "source": [
    "# This stored procedure uploads an array of documents in one batch. If the\n",
    "# entire batch is not completed, the stored procedure will set the response\n",
    "# body to the number of documents that were imported. Your client-side code\n",
    "# is expected to call this stored procedure multiple times until all documents\n",
    "# are imported.\n",
    "\n",
    "sproc_definition = {\n",
    "    'id': 'bulkUpload',\n",
    "    'body': '''\n",
    "         function bulkUpload(docs) {\n",
    "             var collection = getContext().getCollection();\n",
    "             var collectionLink = collection.getSelfLink();\n",
    "             var count = 0;\n",
    "            if (typeof docs == \"string\") {\n",
    "                docs = JSON.parse(docs);\n",
    "            }\n",
    "             if (!docs) throw new Error(\"The array is undefined or null.\");\n",
    "             var docsLength = docs.length;\n",
    "             if (docsLength == 0) {\n",
    "                 getContext().getResponse().setBody(0);\n",
    "                 return;\n",
    "             }\n",
    "             tryCreate(docs[count], callback);\n",
    "             function tryCreate(doc, callback) {\n",
    "                 var isAccepted = collection.createDocument(collectionLink, doc, callback);\n",
    "                 if (!isAccepted) getContext().getResponse().setBody(count);\n",
    "             }\n",
    "             function callback(err, doc, options) {\n",
    "                 if (err) throw err;\n",
    "                 count++;\n",
    "                 if (count >= docsLength) {\n",
    "                     getContext().getResponse().setBody(count);\n",
    "                 } else {\n",
    "                     tryCreate(docs[count], callback);\n",
    "                 }\n",
    "             }\n",
    "         }\n",
    "    '''\n",
    "}\n",
    "\n",
    "bulk_upload_sproc = client.CreateStoredProcedure(collection_link, sproc_definition)"
   ]
  },
  {
   "cell_type": "code",
   "execution_count": 9,
   "metadata": {},
   "outputs": [
    {
     "name": "stdout",
     "output_type": "stream",
     "text": [
      "2400\n"
     ]
    }
   ],
   "source": [
    "# You should see the number '2400' returned as the response body. This\n",
    "# represents the last index of the uploaded items. If for any reason the \n",
    "# stored procedure fails during its bulk upload process, the client can \n",
    "# implement logic to pick up the bulk upload operation from the last succeed\n",
    "# index onward. \n",
    "\n",
    "sproc_result = client.ExecuteStoredProcedure(bulk_upload_sproc['_self'],\n",
    "                                             json.dumps(transactions_json),\n",
    "                                             {'partitionKey':'automotive'})\n",
    "\n",
    "pprint(sproc_result)"
   ]
  },
  {
   "cell_type": "code",
   "execution_count": 10,
   "metadata": {},
   "outputs": [],
   "source": [
    "def query_documents(collection_link, query, options={ \"enableCrossPartitionQuery\": True }):\n",
    "    try:\n",
    "        results = list(client.QueryItems(collection_link, query, options))\n",
    "        return results\n",
    "\n",
    "    except errors.HTTPFailure as e:\n",
    "        if e.status_code == 404:\n",
    "            print(\"Document doesn't exist\")\n",
    "        elif e.status_code == 400:\n",
    "            # Can occur when we are trying to query on excluded paths\n",
    "            print(\"Bad Request exception occured: \", e)\n",
    "            pass\n",
    "        else:\n",
    "            raise\n",
    "\n",
    "    finally:\n",
    "        print()"
   ]
  },
  {
   "cell_type": "code",
   "execution_count": 11,
   "metadata": {
    "slideshow": {
     "slide_type": ""
    }
   },
   "outputs": [
    {
     "name": "stdout",
     "output_type": "stream",
     "text": [
      "\n",
      "Length of query results: 33\n",
      "{'_attachments': 'attachments/',\n",
      " '_etag': '\"04009116-0000-0100-0000-5e347c2d0000\"',\n",
      " '_rid': '2bNRAM1NXPUEAAAAAAAACA==',\n",
      " '_self': 'dbs/2bNRAA==/colls/2bNRAM1NXPU=/docs/2bNRAM1NXPUEAAAAAAAACA==/',\n",
      " '_ts': 1580497965,\n",
      " 'amount': 6.19,\n",
      " 'costCenter': 'automotive',\n",
      " 'id': '1d26ee9a-6b23-47d6-a119-840914c2a911',\n",
      " 'paidBy': 'garnett.ullrich',\n",
      " 'processed': False}\n"
     ]
    }
   ],
   "source": [
    "# Querying for any automotive cost center transactions in which the amount is\n",
    "# less than $10. There should be 34 results returned.\n",
    "\n",
    "query = '''\n",
    "SELECT * \n",
    "FROM transaction t \n",
    "WHERE t.costCenter = 'automotive' \n",
    "    AND t.amount <= 10\n",
    "'''\n",
    "query_results = query_documents(collection_link, query)\n",
    "\n",
    "print(f'Length of query results: {len(query_results)}')\n",
    "pprint(query_results[0])"
   ]
  },
  {
   "cell_type": "code",
   "execution_count": 12,
   "metadata": {},
   "outputs": [],
   "source": [
    "# This stored procedure iterates through all documents that match a specific\n",
    "# query and deletes the documents. If the stored procedure is unable to delete\n",
    "# all documents, it will return a continuation token. Your client-side code is\n",
    "# expected to repeatedly call the stored procedure passing in a continuation\n",
    "# token until the stored procedure does not return a continuation token.\n",
    "\n",
    "sproc_definition = {\n",
    "    'id': 'bulkDelete',\n",
    "    'body': '''\n",
    "         function bulkDelete(query) {\n",
    "             var collection = getContext().getCollection();\n",
    "             var collectionLink = collection.getSelfLink();\n",
    "             var response = getContext().getResponse();\n",
    "             var responseBody = {\n",
    "                 deleted: 0,\n",
    "                 continuation: true\n",
    "             };\n",
    "             if (!query) throw new Error(\"The query is undefined or null.\");\n",
    "             tryQueryAndDelete();\n",
    "             function tryQueryAndDelete(continuation) {\n",
    "                 var requestOptions = {continuation: continuation};\n",
    "                 var isAccepted = collection.queryDocuments(collectionLink, query, requestOptions, function (err, retrievedDocs, responseOptions) {\n",
    "                     if (err) throw err;\n",
    "                     if (retrievedDocs.length > 0) {\n",
    "                         tryDelete(retrievedDocs);\n",
    "                     } else if (responseOptions.continuation) {\n",
    "                         tryQueryAndDelete(responseOptions.continuation);\n",
    "                     } else {\n",
    "                         responseBody.continuation = false;\n",
    "                         response.setBody(responseBody);\n",
    "                     }\n",
    "                 });\n",
    "                 if (!isAccepted) {\n",
    "                     response.setBody(responseBody);\n",
    "                 }\n",
    "             }\n",
    "             function tryDelete(documents) {\n",
    "                 if (documents.length > 0) {\n",
    "                     var isAccepted = collection.deleteDocument(documents[0]._self, {}, function (err, responseOptions) {\n",
    "                         if (err) throw err;\n",
    "                         responseBody.deleted++;\n",
    "                         documents.shift();\n",
    "                         tryDelete(documents);\n",
    "                     });\n",
    "                     if (!isAccepted) {\n",
    "                         response.setBody(responseBody);\n",
    "                     }\n",
    "                 } else {\n",
    "                     tryQueryAndDelete();\n",
    "                 }\n",
    "             }\n",
    "         }\n",
    "    '''\n",
    "}\n",
    "\n",
    "bulk_delete_sproc = client.CreateStoredProcedure(collection_link, sproc_definition)"
   ]
  },
  {
   "cell_type": "code",
   "execution_count": 13,
   "metadata": {},
   "outputs": [
    {
     "name": "stdout",
     "output_type": "stream",
     "text": [
      "{'continuation': False, 'deleted': 33}\n"
     ]
    }
   ],
   "source": [
    "# Observe the continuation token and the number of deleted documents in the \n",
    "# response. The client has to implement logic to handle continuation when the \n",
    "# continuation token is 'True'.\n",
    "\n",
    "query = '''\n",
    "SELECT * \n",
    "FROM transaction t \n",
    "WHERE t.costCenter = 'automotive' \n",
    "    AND t.amount <= 10\n",
    "'''\n",
    "\n",
    "sproc_result = client.ExecuteStoredProcedure(bulk_delete_sproc['_self'],\n",
    "                                             query,\n",
    "                                             {'partitionKey':'automotive'})\n",
    "\n",
    "pprint(sproc_result)"
   ]
  },
  {
   "cell_type": "code",
   "execution_count": 14,
   "metadata": {},
   "outputs": [
    {
     "name": "stdout",
     "output_type": "stream",
     "text": [
      "\n",
      "Length of query results: 0\n"
     ]
    }
   ],
   "source": [
    "# Querying for any automotive cost center transactions in which the amount is\n",
    "# less than $10. After successful execution of bulk delete, here should be 0\n",
    "# result returned.\n",
    "\n",
    "query = '''\n",
    "SELECT * \n",
    "FROM transaction t \n",
    "WHERE t.costCenter = 'automotive' \n",
    "    AND t.amount <= 10\n",
    "'''\n",
    "query_results = query_documents(collection_link, query)\n",
    "\n",
    "print(f'Length of query results: {len(query_results)}')"
   ]
  },
  {
   "cell_type": "code",
   "execution_count": 15,
   "metadata": {},
   "outputs": [],
   "source": [
    "def delete_database(id):\n",
    "    print('Delete Database')\n",
    "\n",
    "    try:\n",
    "       database_link = 'dbs/' + id\n",
    "       client.DeleteDatabase(database_link)\n",
    "\n",
    "       print(f'Database with id \"{id}\" was deleted')\n",
    "\n",
    "    except errors.HTTPFailure as e:\n",
    "        if e.status_code == 404:\n",
    "           print('A database with id \"{id}\" does not exist')\n",
    "        else: \n",
    "            raise"
   ]
  },
  {
   "cell_type": "code",
   "execution_count": 16,
   "metadata": {},
   "outputs": [
    {
     "name": "stdout",
     "output_type": "stream",
     "text": [
      "Delete Database\n",
      "Database with id \"FinancialDatabase\" was deleted\n"
     ]
    }
   ],
   "source": [
    "# Clean up\n",
    "delete_database(COSMOSDB_DB_ID)"
   ]
  },
  {
   "cell_type": "code",
   "execution_count": null,
   "metadata": {},
   "outputs": [],
   "source": []
  }
 ],
 "metadata": {
  "kernelspec": {
   "display_name": "Python 3",
   "language": "python",
   "name": "python3"
  },
  "language_info": {
   "codemirror_mode": {
    "name": "ipython",
    "version": 3
   },
   "file_extension": ".py",
   "mimetype": "text/x-python",
   "name": "python",
   "nbconvert_exporter": "python",
   "pygments_lexer": "ipython3",
   "version": "3.6.9"
  }
 },
 "nbformat": 4,
 "nbformat_minor": 2
}
