{
 "cells": [
  {
   "cell_type": "code",
   "execution_count": 1,
   "metadata": {},
   "outputs": [],
   "source": [
    "from pprint import pprint\n",
    "import json\n",
    "\n",
    "import azure.cosmos.cosmos_client as cosmos_client\n",
    "import azure.cosmos.documents as documents\n",
    "import azure.cosmos.errors as errors"
   ]
  },
  {
   "cell_type": "code",
   "execution_count": 2,
   "metadata": {},
   "outputs": [],
   "source": [
    "COSMOSDB_ENDPOINT = '{AZURE_COSMOS_DB_ENDPOINT}'\n",
    "COSMOSDB_PRIMARY_KEY = '{AZURE_COSMOS_DB_PRIMARY_KEY}'\n",
    "COSMOSDB_DB_ID = 'FinancialDatabase'\n",
    "COSMOSDB_COLL_ID = 'InvestorCollection'\n",
    "\n",
    "client = cosmos_client.CosmosClient(COSMOSDB_ENDPOINT, { 'masterKey': COSMOSDB_PRIMARY_KEY })\n",
    "database_link = f'dbs/{COSMOSDB_DB_ID}'\n",
    "partition_key = '/company'\n",
    "throughput = 500\n",
    "collection_link = f'{database_link}/colls/{COSMOSDB_COLL_ID}'"
   ]
  },
  {
   "cell_type": "code",
   "execution_count": 3,
   "metadata": {},
   "outputs": [],
   "source": [
    "def create_database(id):\n",
    "    print('Create database')\n",
    "\n",
    "    try:\n",
    "        client.CreateDatabase({\"id\": id})\n",
    "        print(f'Database with id \"{id}\" created')\n",
    "\n",
    "    except errors.HTTPFailure as e:\n",
    "        if e.status_code == 409:\n",
    "           print(f'A database with id \"{id}\" already exists')\n",
    "        else: \n",
    "            raise"
   ]
  },
  {
   "cell_type": "code",
   "execution_count": 4,
   "metadata": {},
   "outputs": [
    {
     "name": "stdout",
     "output_type": "stream",
     "text": [
      "Create database\n",
      "Database with id \"FinancialDatabase\" created\n"
     ]
    }
   ],
   "source": [
    "create_database(COSMOSDB_DB_ID)"
   ]
  },
  {
   "cell_type": "code",
   "execution_count": 5,
   "metadata": {},
   "outputs": [],
   "source": [
    "def create_container(id, throughput, partition_key):\n",
    "    try:\n",
    "        coll = {\n",
    "            \"id\": id,\n",
    "            \"partitionKey\": {\n",
    "                \"paths\": [\n",
    "                    partition_key\n",
    "                ],\n",
    "                \"kind\": \"Hash\",\n",
    "                \"version\": 2\n",
    "            }\n",
    "        }\n",
    "        collection_options = { 'offerThroughput': throughput }\n",
    "        collection = client.CreateContainer(database_link, coll, collection_options)\n",
    "\n",
    "        print(f'Collection with id \"{id}\" created')\n",
    "        print(f'Partition Key - \"{partition_key}\"')\n",
    "\n",
    "    except errors.CosmosError as e:\n",
    "        if e.status_code == 409:\n",
    "            print(f'A collection with id \"{id}\" already exists')\n",
    "        else:\n",
    "            raise"
   ]
  },
  {
   "cell_type": "code",
   "execution_count": 6,
   "metadata": {},
   "outputs": [
    {
     "name": "stdout",
     "output_type": "stream",
     "text": [
      "Collection with id \"InvestorCollection\" created\n",
      "Partition Key - \"/company\"\n"
     ]
    }
   ],
   "source": [
    "create_container(COSMOSDB_COLL_ID, throughput, partition_key)"
   ]
  },
  {
   "cell_type": "code",
   "execution_count": 7,
   "metadata": {},
   "outputs": [],
   "source": [
    "# This simple stored procedure will echo the input parameter string with the\n",
    "# text Hello as a prefix.\n",
    "\n",
    "sproc_definition = {\n",
    "    'id': 'greetCaller',\n",
    "    'serverScript': '''\n",
    "        function greetCaller(name) {\n",
    "             var context = getContext();\n",
    "             var response = context.getResponse();\n",
    "             response.setBody(\"Hello \" + name);\n",
    "         }\n",
    "    '''\n",
    "}\n",
    "\n",
    "sproc = client.CreateStoredProcedure(collection_link, sproc_definition)"
   ]
  },
  {
   "cell_type": "code",
   "execution_count": 8,
   "metadata": {},
   "outputs": [
    {
     "name": "stdout",
     "output_type": "stream",
     "text": [
      "'Hello Person'\n"
     ]
    }
   ],
   "source": [
    "# The output should be \"Hello Person\".\n",
    "\n",
    "sproc_result = client.ExecuteStoredProcedure(sproc['_self'], ['Person'], {'partitionKey':'example'})\n",
    "\n",
    "pprint(sproc_result)"
   ]
  },
  {
   "cell_type": "code",
   "execution_count": 9,
   "metadata": {},
   "outputs": [],
   "source": [
    "# Inside the JavaScript callback, users can either handle the exception or\n",
    "# throw an error. In case a callback is not provided and there is an error,\n",
    "# the Azure Cosmos DB runtime throws an error. This stored procedures creates\n",
    "# a new document and uses a nested callback function to return the document\n",
    "# as the body of the response.\n",
    "\n",
    "sproc_definition = {\n",
    "    'id': 'createDocument',\n",
    "    'serverScript': '''\n",
    "         function createDocument(doc) {\n",
    "             var context = getContext();\n",
    "             var collection = context.getCollection();\n",
    "             var accepted = collection.createDocument(\n",
    "                 collection.getSelfLink(),\n",
    "                 doc,\n",
    "                 function (err, newDoc) {\n",
    "                     if (err) throw new Error('Error' + err.message);\n",
    "                     context.getResponse().setBody(newDoc);\n",
    "                 }\n",
    "             );\n",
    "             if (!accepted) return;\n",
    "         }\n",
    "    '''\n",
    "}\n",
    "\n",
    "sproc = client.CreateStoredProcedure(collection_link, sproc_definition)"
   ]
  },
  {
   "cell_type": "code",
   "execution_count": 10,
   "metadata": {},
   "outputs": [
    {
     "name": "stdout",
     "output_type": "stream",
     "text": [
      "{'_attachments': 'attachments/',\n",
      " '_etag': '\"00001f00-0000-0100-0000-5e347bd10000\"',\n",
      " '_rid': 'qOpgAPYZ494BAAAAAAAAAA==',\n",
      " '_self': 'dbs/qOpgAA==/colls/qOpgAPYZ494=/docs/qOpgAPYZ494BAAAAAAAAAA==/',\n",
      " 'company': 'contosoairlines',\n",
      " 'id': '37de2b14-3722-fe79-5bc6-348a1d2a2b30',\n",
      " 'industry': 'travel'}\n"
     ]
    }
   ],
   "source": [
    "# You should see a new document in your collection. Azure Cosmos DB has\n",
    "# assigned additional fields to the document such as id and _etag.\n",
    "\n",
    "sproc_result = client.ExecuteStoredProcedure(sproc['_self'],\n",
    "                                             { \"company\": \"contosoairlines\", \"industry\": \"travel\" },\n",
    "                                             {'partitionKey':'contosoairlines'})\n",
    "\n",
    "pprint(sproc_result)"
   ]
  },
  {
   "cell_type": "code",
   "execution_count": 11,
   "metadata": {},
   "outputs": [],
   "source": [
    "def query_documents(collection_link, query, options={ \"enableCrossPartitionQuery\": True }):\n",
    "    try:\n",
    "        results = list(client.QueryItems(collection_link, query, options))\n",
    "        return results\n",
    "\n",
    "    except errors.HTTPFailure as e:\n",
    "        if e.status_code == 404:\n",
    "            print(\"Document doesn't exist\")\n",
    "        elif e.status_code == 400:\n",
    "            # Can occur when we are trying to query on excluded paths\n",
    "            print(\"Bad Request exception occured: \", e)\n",
    "            pass\n",
    "        else:\n",
    "            raise\n",
    "\n",
    "    finally:\n",
    "        print()"
   ]
  },
  {
   "cell_type": "code",
   "execution_count": 12,
   "metadata": {},
   "outputs": [
    {
     "name": "stdout",
     "output_type": "stream",
     "text": [
      "\n",
      "Length of query results: 1\n",
      "{'_attachments': 'attachments/',\n",
      " '_etag': '\"00001f00-0000-0100-0000-5e347bd10000\"',\n",
      " '_rid': 'qOpgAPYZ494BAAAAAAAAAA==',\n",
      " '_self': 'dbs/qOpgAA==/colls/qOpgAPYZ494=/docs/qOpgAPYZ494BAAAAAAAAAA==/',\n",
      " '_ts': 1580497873,\n",
      " 'company': 'contosoairlines',\n",
      " 'id': '37de2b14-3722-fe79-5bc6-348a1d2a2b30',\n",
      " 'industry': 'travel'}\n"
     ]
    }
   ],
   "source": [
    "# This query will retrieve the document you have just created.\n",
    "\n",
    "query = 'SELECT * FROM investors WHERE investors.company = \"contosoairlines\" AND investors.industry = \"travel\"'\n",
    "query_results = query_documents(collection_link, query)\n",
    "\n",
    "print(f'Length of query results: {len(query_results)}')\n",
    "pprint(query_results[0])"
   ]
  },
  {
   "cell_type": "code",
   "execution_count": 13,
   "metadata": {},
   "outputs": [],
   "source": [
    "# This stored procedure will use the console.log feature that’s normally used\n",
    "# in browser-based JavaScript to write output to the console. In the context\n",
    "# of Azure Cosmos DB, this feature can be used to capture diagnostics logging\n",
    "# information that can be returned after the stored procedure is executed.\n",
    "\n",
    "sproc_definition = {\n",
    "    'id': 'createDocumentWithLogging',\n",
    "    'serverScript': '''\n",
    "         function createDocumentWithLogging(doc) {\n",
    "             console.log(\"procedural-start \");\n",
    "             var context = getContext();\n",
    "             var collection = context.getCollection();\n",
    "             console.log(\"metadata-retrieved \");\n",
    "             var accepted = collection.createDocument(\n",
    "                 collection.getSelfLink(),\n",
    "                 doc,\n",
    "                 function (err, newDoc) {\n",
    "                     console.log(\"callback-started \");\n",
    "                     if (err) throw new Error('Error' + err.message);\n",
    "                     context.getResponse().setBody(newDoc.id);\n",
    "                 }\n",
    "             );\n",
    "             console.log(\"async-doc-creation-started \");\n",
    "             if (!accepted) return;\n",
    "             console.log(\"procedural-end\");\n",
    "         }\n",
    "    '''\n",
    "}\n",
    "\n",
    "sproc = client.CreateStoredProcedure(collection_link, sproc_definition)"
   ]
  },
  {
   "cell_type": "code",
   "execution_count": 14,
   "metadata": {},
   "outputs": [
    {
     "name": "stdout",
     "output_type": "stream",
     "text": [
      "'3319edb4-4e5d-0fd2-7613-29c474de57fa'\n"
     ]
    }
   ],
   "source": [
    "# You should see the unique id of a new document in your collection. The\n",
    "# console.log is visible when using Data Explorer in Azure Cosmos DB portal.\n",
    "\n",
    "sproc_result = client.ExecuteStoredProcedure(sproc['_self'],\n",
    "                                             { \"company\": \"contosoairlines\" },\n",
    "                                             {'partitionKey':'contosoairlines'})\n",
    "\n",
    "pprint(sproc_result)"
   ]
  },
  {
   "cell_type": "code",
   "execution_count": 15,
   "metadata": {},
   "outputs": [],
   "source": [
    "# This is the same stored procedure as you created previously but it is using\n",
    "# a named function instead of an implicit callback function inline.\n",
    "\n",
    "sproc_definition = {\n",
    "    'id': 'createDocumentWithFunction',\n",
    "    'serverScript': '''\n",
    "         function createDocumentWithFunction(document) {\n",
    "             var context = getContext();\n",
    "             var collection = context.getCollection();\n",
    "             if (!collection.createDocument(collection.getSelfLink(), document, documentCreated))\n",
    "                 return;\n",
    "             function documentCreated(error, newDocument) {\n",
    "                 if (error) throw new Error('Error' + error.message);\n",
    "                 context.getResponse().setBody(newDocument);\n",
    "             }\n",
    "         }\n",
    "    '''\n",
    "}\n",
    "\n",
    "sproc = client.CreateStoredProcedure(collection_link, sproc_definition)"
   ]
  },
  {
   "cell_type": "code",
   "execution_count": 16,
   "metadata": {},
   "outputs": [
    {
     "name": "stdout",
     "output_type": "stream",
     "text": [
      "HTTPFailure('Status code: 400\\n{\"code\":\"BadRequest\",\"message\":\"Message: {\\\\\"Errors\\\\\":[\\\\\"Encountered exception while executing function. Exception = Error: Error{\\\\\\\\\\\\\"Errors\\\\\\\\\\\\\":[\\\\\\\\\\\\\"Requests originating from scripts cannot reference partition keys other than the one for which client request was submitted.\\\\\\\\\\\\\"]}\\\\\\\\r\\\\\\\\nStack trace: Error: Error{\\\\\\\\\\\\\"Errors\\\\\\\\\\\\\":[\\\\\\\\\\\\\"Requests originating from scripts cannot reference partition keys other than the one for which client request was submitted.\\\\\\\\\\\\\"]}\\\\\\\\n   at documentCreated (script.js:8:29)\\\\\\\\n   at Anonymous function (script.js:686:29)\\\\\"]}\\\\r\\\\nActivityId: bca40562-d83f-4806-a228-8aa8331a7462, Request URI: /apps/c21e6828-0313-4658-9618-353217af2fe6/services/3f1e6ba2-0ac7-493c-9a9e-e7e676989849/partitions/d02939dd-2f96-4ab0-afc5-26d70994eb24/replicas/132249702016963621p/, RequestStats: \\\\r\\\\nRequestStartTime: 2020-01-31T19:11:14.2416575Z, RequestEndTime: 2020-01-31T19:11:14.2416575Z,  Number of regions attempted:1\\\\r\\\\nResponseTime: 2020-01-31T19:11:14.2416575Z, StoreResult: StorePhysicalAddress: rntbd://cdb-ms-prod-eastus1-fd40.documents.azure.com:14074/apps/c21e6828-0313-4658-9618-353217af2fe6/services/3f1e6ba2-0ac7-493c-9a9e-e7e676989849/partitions/d02939dd-2f96-4ab0-afc5-26d70994eb24/replicas/132249702016963621p/, LSN: 7, GlobalCommittedLsn: 7, PartitionKeyRangeId: 0, IsValid: True, StatusCode: 400, SubStatusCode: 0, RequestCharge: 3.95, ItemLSN: -1, SessionToken: -1#7, UsingLocalLSN: False, TransportException: null, ResourceType: StoredProcedure, OperationType: ExecuteJavaScript\\\\r\\\\n, SDK: Microsoft.Azure.Documents.Common/2.9.2\"}',)\n"
     ]
    }
   ],
   "source": [
    "# Notice that the stored procedure execution has failed. Stored procedures\n",
    "# are bound to a specific partition key. In this example, tried to execute\n",
    "# the stored procedure within the context of the adventureworks partition key.\n",
    "# Within the stored procedure, we tried to create a new document using the\n",
    "# contosoairlines partition key. The stored procedure was unable to create a\n",
    "# new document (or access existing documents) in a partition key other than\n",
    "# the one specified when the stored procedure is executed. This caused the\n",
    "# stored procedure to fail. You are not able to create or manipulate documents\n",
    "# across partition keys within a stored procedure.\n",
    "\n",
    "try:\n",
    "    sproc_result = client.ExecuteStoredProcedure(sproc['_self'],\n",
    "                                                 { \"company\": \"contosoairlines\" },\n",
    "                                                 {'partitionKey':'adventureworks'})\n",
    "except errors.HTTPFailure as e:\n",
    "    pprint(e)"
   ]
  },
  {
   "cell_type": "code",
   "execution_count": 17,
   "metadata": {},
   "outputs": [
    {
     "name": "stdout",
     "output_type": "stream",
     "text": [
      "{'_attachments': 'attachments/',\n",
      " '_etag': '\"00002400-0000-0100-0000-5e347bd20000\"',\n",
      " '_rid': 'qOpgAPYZ494DAAAAAAAAAA==',\n",
      " '_self': 'dbs/qOpgAA==/colls/qOpgAPYZ494=/docs/qOpgAPYZ494DAAAAAAAAAA==/',\n",
      " 'company': 'adventureworks',\n",
      " 'id': 'b50940ff-86cd-3eac-27eb-2c10a8af2c1c'}\n"
     ]
    }
   ],
   "source": [
    "# You should see a new document in your collection. Azure Cosmos DB has\n",
    "# assigned additional fields to the document such as id and _etag.\n",
    "\n",
    "sproc_result = client.ExecuteStoredProcedure(sproc['_self'],\n",
    "                                             { \"company\": \"adventureworks\" },\n",
    "                                             {'partitionKey':'adventureworks'})\n",
    "\n",
    "pprint(sproc_result)"
   ]
  },
  {
   "cell_type": "code",
   "execution_count": 18,
   "metadata": {},
   "outputs": [
    {
     "name": "stdout",
     "output_type": "stream",
     "text": [
      "\n",
      "Length of query results: 1\n",
      "{'_attachments': 'attachments/',\n",
      " '_etag': '\"00002400-0000-0100-0000-5e347bd20000\"',\n",
      " '_rid': 'qOpgAPYZ494DAAAAAAAAAA==',\n",
      " '_self': 'dbs/qOpgAA==/colls/qOpgAPYZ494=/docs/qOpgAPYZ494DAAAAAAAAAA==/',\n",
      " '_ts': 1580497874,\n",
      " 'company': 'adventureworks',\n",
      " 'id': 'b50940ff-86cd-3eac-27eb-2c10a8af2c1c'}\n"
     ]
    }
   ],
   "source": [
    "# This query will retrieve the document you have just created.\n",
    "\n",
    "query = 'SELECT * FROM investors WHERE investors.company = \"adventureworks\"'\n",
    "query_results = query_documents(collection_link, query)\n",
    "\n",
    "print(f'Length of query results: {len(query_results)}')\n",
    "pprint(query_results[0])"
   ]
  },
  {
   "cell_type": "code",
   "execution_count": 19,
   "metadata": {},
   "outputs": [],
   "source": [
    "# This stored procedure uses nested callbacks to create two seperate\n",
    "# documents. You may have scenarios where your data is split across multiple\n",
    "# JSON documents and you will need to add or modify multiple documents in a\n",
    "# single stored procedure.\n",
    "\n",
    "\n",
    "sproc_definition = {\n",
    "    'id': 'createTwoDocuments',\n",
    "    'serverScript': '''\n",
    "         function createTwoDocuments(companyName, industry, taxRate) {\n",
    "             var context = getContext();\n",
    "             var collection = context.getCollection();\n",
    "             var firstDocument = {\n",
    "                 company: companyName,\n",
    "                 industry: industry\n",
    "             };\n",
    "             var secondDocument = {\n",
    "                 company: companyName,\n",
    "                 tax: {\n",
    "                     exempt: false,\n",
    "                     rate: taxRate\n",
    "                 }\n",
    "             };\n",
    "             var firstAccepted = collection.createDocument(collection.getSelfLink(), firstDocument, \n",
    "                 function (firstError, newFirstDocument) {\n",
    "                     if (firstError) throw new Error('Error' + firstError.message);\n",
    "                     var secondAccepted = collection.createDocument(collection.getSelfLink(), secondDocument,\n",
    "                         function (secondError, newSecondDocument) {\n",
    "                             if (secondError) throw new Error('Error' + secondError.message);      \n",
    "                             context.getResponse().setBody({\n",
    "                                 companyRecord: newFirstDocument,\n",
    "                                 taxRecord: newSecondDocument\n",
    "                             });\n",
    "                         }\n",
    "                     );\n",
    "                     if (!secondAccepted) return;    \n",
    "                 }\n",
    "             );\n",
    "             if (!firstAccepted) return;    \n",
    "         }\n",
    "    '''\n",
    "}\n",
    "\n",
    "create_two_doc_sproc = client.CreateStoredProcedure(collection_link, sproc_definition)"
   ]
  },
  {
   "cell_type": "code",
   "execution_count": 20,
   "metadata": {},
   "outputs": [
    {
     "name": "stdout",
     "output_type": "stream",
     "text": [
      "{'companyRecord': {'_attachments': 'attachments/',\n",
      "                   '_etag': '\"00002600-0000-0100-0000-5e347bd20000\"',\n",
      "                   '_rid': 'qOpgAPYZ494EAAAAAAAAAA==',\n",
      "                   '_self': 'dbs/qOpgAA==/colls/qOpgAPYZ494=/docs/qOpgAPYZ494EAAAAAAAAAA==/',\n",
      "                   'company': 'abcairways',\n",
      "                   'id': '87e38da6-09fc-954f-a10c-586d15260486',\n",
      "                   'industry': 'travel'},\n",
      " 'taxRecord': {'_attachments': 'attachments/',\n",
      "               '_etag': '\"00002700-0000-0100-0000-5e347bd20000\"',\n",
      "               '_rid': 'qOpgAPYZ494FAAAAAAAAAA==',\n",
      "               '_self': 'dbs/qOpgAA==/colls/qOpgAPYZ494=/docs/qOpgAPYZ494FAAAAAAAAAA==/',\n",
      "               'company': 'abcairways',\n",
      "               'id': 'f36b247c-614b-02fd-34b0-902e4debcf21',\n",
      "               'tax': {'exempt': False, 'rate': '1.05'}}}\n"
     ]
    }
   ],
   "source": [
    "# You should see a new document in your collection. Azure Cosmos DB has\n",
    "# assigned additional fields to the document such as id and _etag.\n",
    "\n",
    "sproc_result = client.ExecuteStoredProcedure(create_two_doc_sproc['_self'],\n",
    "                                             ['abcairways', 'travel', '1.05'],\n",
    "                                             {'partitionKey':'abcairways'})\n",
    "\n",
    "pprint(sproc_result)"
   ]
  },
  {
   "cell_type": "code",
   "execution_count": 21,
   "metadata": {},
   "outputs": [],
   "source": [
    "# Transactions are deeply and natively integrated into Cosmos DB’s JavaScript\n",
    "# programming model. Inside a JavaScript function, all operations are\n",
    "# automatically wrapped under a single transaction. If the JavaScript\n",
    "# completes without any exception, the operations to the database are\n",
    "# committed. We are going to change the stored procedure to put in a different\n",
    "# company name for the second document. This should cause the stored procedure\n",
    "# to fail since the second document uses a different partition key. If there\n",
    "# is any exception that’s propagated from the script, Cosmos DB’s JavaScript\n",
    "# runtime will roll back the whole transaction. This will effectively ensure\n",
    "# that the first or second documents are not commited to the database.\n",
    "\n",
    "sproc_definition = {\n",
    "    'id': 'createTwoDocuments',\n",
    "    'body': '''\n",
    "         function createTwoDocuments(companyName, industry, taxRate) {\n",
    "             var context = getContext();\n",
    "             var collection = context.getCollection();\n",
    "             var firstDocument = {\n",
    "                 company: companyName,\n",
    "                 industry: industry\n",
    "             };\n",
    "             var secondDocument = {\n",
    "                 company: companyName + \"_taxprofile\",\n",
    "                 tax: {\n",
    "                     exempt: false,\n",
    "                     rate: taxRate\n",
    "                 }\n",
    "             };\n",
    "             var firstAccepted = collection.createDocument(collection.getSelfLink(), firstDocument, \n",
    "                 function (firstError, newFirstDocument) {\n",
    "                     if (firstError) throw new Error('Error' + firstError.message);\n",
    "                     console.log('Created: ' + newFirstDocument.id);\n",
    "                     var secondAccepted = collection.createDocument(collection.getSelfLink(), secondDocument,\n",
    "                         function (secondError, newSecondDocument) {\n",
    "                             if (secondError) throw new Error('Error' + secondError.message); \n",
    "                             console.log('Created: ' + newSecondDocument.id);                   \n",
    "                             context.getResponse().setBody({\n",
    "                                 companyRecord: newFirstDocument,\n",
    "                                 taxRecord: newSecondDocument\n",
    "                             });\n",
    "                         }\n",
    "                     );\n",
    "                     if (!secondAccepted) return;    \n",
    "                 }\n",
    "             );\n",
    "             if (!firstAccepted) return;    \n",
    "         }\n",
    "    '''\n",
    "}\n",
    "\n",
    "sproc = client.ReplaceStoredProcedure(create_two_doc_sproc['_self'], sproc_definition)"
   ]
  },
  {
   "cell_type": "code",
   "execution_count": 22,
   "metadata": {},
   "outputs": [
    {
     "name": "stdout",
     "output_type": "stream",
     "text": [
      "HTTPFailure('Status code: 400\\n{\"code\":\"BadRequest\",\"message\":\"Message: {\\\\\"Errors\\\\\":[\\\\\"Encountered exception while executing function. Exception = Error: Error{\\\\\\\\\\\\\"Errors\\\\\\\\\\\\\":[\\\\\\\\\\\\\"Requests originating from scripts cannot reference partition keys other than the one for which client request was submitted.\\\\\\\\\\\\\"]}\\\\\\\\r\\\\\\\\nStack trace: Error: Error{\\\\\\\\\\\\\"Errors\\\\\\\\\\\\\":[\\\\\\\\\\\\\"Requests originating from scripts cannot reference partition keys other than the one for which client request was submitted.\\\\\\\\\\\\\"]}\\\\\\\\n   at Anonymous function (script.js:22:47)\\\\\\\\n   at Anonymous function (script.js:686:29)\\\\\"]}\\\\r\\\\nActivityId: 62f95e7d-6046-4a27-8986-31cf5c21d463, Request URI: /apps/c21e6828-0313-4658-9618-353217af2fe6/services/3f1e6ba2-0ac7-493c-9a9e-e7e676989849/partitions/d02939dd-2f96-4ab0-afc5-26d70994eb24/replicas/132249702016963621p/, RequestStats: \\\\r\\\\nRequestStartTime: 2020-01-31T19:11:14.7816709Z, RequestEndTime: 2020-01-31T19:11:14.7916626Z,  Number of regions attempted:1\\\\r\\\\nResponseTime: 2020-01-31T19:11:14.7916626Z, StoreResult: StorePhysicalAddress: rntbd://cdb-ms-prod-eastus1-fd40.documents.azure.com:14074/apps/c21e6828-0313-4658-9618-353217af2fe6/services/3f1e6ba2-0ac7-493c-9a9e-e7e676989849/partitions/d02939dd-2f96-4ab0-afc5-26d70994eb24/replicas/132249702016963621p/, LSN: 11, GlobalCommittedLsn: 11, PartitionKeyRangeId: 0, IsValid: True, StatusCode: 400, SubStatusCode: 0, RequestCharge: 8.29, ItemLSN: -1, SessionToken: -1#11, UsingLocalLSN: False, TransportException: null, ResourceType: StoredProcedure, OperationType: ExecuteJavaScript\\\\r\\\\n, SDK: Microsoft.Azure.Documents.Common/2.9.2\"}',)\n"
     ]
    }
   ],
   "source": [
    "# This stored procedure failed to create the second document so the entire\n",
    "# transaction was rolled back.\n",
    "\n",
    "try:\n",
    "    sproc_result = client.ExecuteStoredProcedure(sproc['_self'],\n",
    "                                                 ['jetsonairways', 'travel', '1.15'],\n",
    "                                                 {'partitionKey':'jetsonairways'})\n",
    "\n",
    "except errors.HTTPFailure as e:\n",
    "    pprint(e)"
   ]
  },
  {
   "cell_type": "code",
   "execution_count": 23,
   "metadata": {},
   "outputs": [
    {
     "name": "stdout",
     "output_type": "stream",
     "text": [
      "\n",
      "Length of query results: 0\n"
     ]
    }
   ],
   "source": [
    "# This query won’t retrieve any documents since the transaction was rolled back.\n",
    "\n",
    "query = 'SELECT * FROM investors WHERE investors.company = \"jetsonairways\"'\n",
    "query_results = query_documents(collection_link, query)\n",
    "\n",
    "print(f'Length of query results: {len(query_results)}')"
   ]
  },
  {
   "cell_type": "code",
   "execution_count": 24,
   "metadata": {},
   "outputs": [],
   "source": [
    "def delete_database(id):\n",
    "    print('Delete Database')\n",
    "\n",
    "    try:\n",
    "       database_link = 'dbs/' + id\n",
    "       client.DeleteDatabase(database_link)\n",
    "\n",
    "       print(f'Database with id \"{id}\" was deleted')\n",
    "\n",
    "    except errors.HTTPFailure as e:\n",
    "        if e.status_code == 404:\n",
    "           print('A database with id \"{id}\" does not exist')\n",
    "        else: \n",
    "            raise"
   ]
  },
  {
   "cell_type": "code",
   "execution_count": 25,
   "metadata": {},
   "outputs": [
    {
     "name": "stdout",
     "output_type": "stream",
     "text": [
      "Delete Database\n",
      "Database with id \"FinancialDatabase\" was deleted\n"
     ]
    }
   ],
   "source": [
    "# Clean up\n",
    "delete_database(COSMOSDB_DB_ID)"
   ]
  },
  {
   "cell_type": "code",
   "execution_count": null,
   "metadata": {},
   "outputs": [],
   "source": []
  }
 ],
 "metadata": {
  "kernelspec": {
   "display_name": "Python 3",
   "language": "python",
   "name": "python3"
  },
  "language_info": {
   "codemirror_mode": {
    "name": "ipython",
    "version": 3
   },
   "file_extension": ".py",
   "mimetype": "text/x-python",
   "name": "python",
   "nbconvert_exporter": "python",
   "pygments_lexer": "ipython3",
   "version": "3.6.9"
  }
 },
 "nbformat": 4,
 "nbformat_minor": 2
}
